{
  "cells": [
    {
      "cell_type": "markdown",
      "source": [
        "# **A. Preparation**\n",
        "\n",
        "This section is used to import necessary library, data and reformat them if necessary"
      ],
      "metadata": {
        "id": "IhpHE3O0Ikc9"
      }
    },
    {
      "cell_type": "markdown",
      "source": [
        "## **1. Import necessary library**"
      ],
      "metadata": {
        "id": "xLgCaoNMIkBR"
      }
    },
    {
      "cell_type": "code",
      "execution_count": 76,
      "outputs": [],
      "source": [
        "import pandas as pd\n",
        "import numpy as np\n",
        "import matplotlib.pyplot as plt\n",
        "\n",
        "from sqlalchemy import create_engine\n",
        "\n",
        "from calendar import monthrange\n",
        "from datetime import timedelta\n",
        "from datetime import datetime\n",
        "from dateutil.relativedelta import relativedelta\n",
        "\n",
        "from ortools.linear_solver import pywraplp\n",
        "\n",
        "from collections import defaultdict\n",
        "from pprint import pprint\n",
        "\n",
        "import copy"
      ],
      "metadata": {
        "pycharm": {
          "name": "#%%\n"
        },
        "id": "KscqUVFPGZJ9"
      }
    },
    {
      "cell_type": "markdown",
      "source": [
        "## **2. Import Data**"
      ],
      "metadata": {
        "id": "GTB-7dzyIpvi"
      }
    },
    {
      "cell_type": "markdown",
      "source": [
        "### **2.1. Import SQL**"
      ],
      "metadata": {
        "id": "B9dIjNgyKBR3"
      }
    },
    {
      "cell_type": "markdown",
      "source": [
        "#### 2.1.1. Bill of Material"
      ],
      "metadata": {
        "id": "Gx-iQUrcKIpv"
      }
    },
    {
      "cell_type": "code",
      "source": [
        "#Khal båo credential\n",
        "str_user = 'user_schf'\n",
        "str_password = '11223344'\n",
        "str_db = 'db_schf_round3'\n",
        "#Tạo connection\n",
        "engine = create_engine(\n",
        "  f\"postgresql://{str_user}:{str_password }@139.180.184.67:5432/{str_db}?sslmode=require\"\n",
        ")\n",
        "connection = engine.connect()\n",
        "\n",
        "#Đọc bång INPUT_BOX\n",
        "df_bom = pd.read_sql(\"\"\"select * from INPUT_BOM\"\"\", con=connection)\n",
        "bom_dict = {}\n",
        "unique_items = df_bom['THÀNH PHẨM'].unique()\n",
        "for item in unique_items:\n",
        "    bom = df_bom[df_bom['THÀNH PHẨM'] == item]\n",
        "    unique_raw_items = bom['NGUYÊN LIỆU'].unique()\n",
        "    bom_dict[item] = {}\n",
        "    for raw_item in unique_raw_items:\n",
        "        n = bom.columns[2]\n",
        "        quantity = bom[bom['NGUYÊN LIỆU'] == raw_item][n].values[0]\n",
        "        bom_dict[item][raw_item] = quantity"
      ],
      "metadata": {
        "id": "2zE3nTJUKB7q"
      },
      "execution_count": 77,
      "outputs": []
    },
    {
      "cell_type": "markdown",
      "source": [
        "#### 2.1.2. Raw Material Ìnformation"
      ],
      "metadata": {
        "id": "yOKSBcgQKTJS"
      }
    },
    {
      "cell_type": "code",
      "source": [
        "df_items_fg = pd.read_sql(\"\"\"select * from INPUT_ITEMMASTER\"\"\", con=connection)\n",
        "# fill nan with 1000\n",
        "df_items_fg = df_items_fg.fillna(1000)\n",
        "df_items_fg"
      ],
      "metadata": {
        "id": "3CDNMMH2KSec",
        "colab": {
          "base_uri": "https://localhost:8080/",
          "height": 376
        },
        "outputId": "47e47933-1f2a-4d01-b555-5c19a6377bc1"
      },
      "execution_count": 78,
      "outputs": [
        {
          "output_type": "execute_result",
          "data": {
            "text/plain": [
              "             ITEM         LOẠI         NHÀ CUNG CẤP  LEADTIME ĐẶT HÀNG (NGÀY)  \\\n",
              "0           KHOAI  Nguyên liệu   CÔNG TY TNHH NARGI                         7   \n",
              "1             SẮN  Nguyên liệu   CÔNG TY TNHH NARGI                         7   \n",
              "2             NGÔ  Nguyên liệu   CÔNG TY TNHH NARGI                         7   \n",
              "3    BỘT_ĐỖ_TƯƠNG  Nguyên liệu   CÔNG TY TNHH NARGI                         7   \n",
              "4            THÓC  Nguyên liệu   CÔNG TY TNHH NARGI                         7   \n",
              "5  XƯƠNG_ĐỘNG_VẬT  Nguyên liệu     CÔNG TY CP YFOOD                         7   \n",
              "6     MEN_VI_SINH  Nguyên liệu       CÔNG TY VNIBIO                         2   \n",
              "7     BAO_BÌ_25KG  Nguyên liệu  CÔNG TY TNHH WOPACK                         7   \n",
              "8     BAO_BÌ_40KG  Nguyên liệu  CÔNG TY TNHH WOPACK                         7   \n",
              "\n",
              "      MOQ ĐƠN VỊ  \n",
              "0  3000.0     kg  \n",
              "1  1500.0     kg  \n",
              "2  3000.0     kg  \n",
              "3  1500.0     kg  \n",
              "4  3000.0     kg  \n",
              "5  1000.0     kg  \n",
              "6   100.0    lít  \n",
              "7  1000.0    cái  \n",
              "8  1000.0    cái  "
            ],
            "text/html": [
              "\n",
              "  <div id=\"df-1b796638-084e-4652-8b11-2370e65c1fcd\">\n",
              "    <div class=\"colab-df-container\">\n",
              "      <div>\n",
              "<style scoped>\n",
              "    .dataframe tbody tr th:only-of-type {\n",
              "        vertical-align: middle;\n",
              "    }\n",
              "\n",
              "    .dataframe tbody tr th {\n",
              "        vertical-align: top;\n",
              "    }\n",
              "\n",
              "    .dataframe thead th {\n",
              "        text-align: right;\n",
              "    }\n",
              "</style>\n",
              "<table border=\"1\" class=\"dataframe\">\n",
              "  <thead>\n",
              "    <tr style=\"text-align: right;\">\n",
              "      <th></th>\n",
              "      <th>ITEM</th>\n",
              "      <th>LOẠI</th>\n",
              "      <th>NHÀ CUNG CẤP</th>\n",
              "      <th>LEADTIME ĐẶT HÀNG (NGÀY)</th>\n",
              "      <th>MOQ</th>\n",
              "      <th>ĐƠN VỊ</th>\n",
              "    </tr>\n",
              "  </thead>\n",
              "  <tbody>\n",
              "    <tr>\n",
              "      <th>0</th>\n",
              "      <td>KHOAI</td>\n",
              "      <td>Nguyên liệu</td>\n",
              "      <td>CÔNG TY TNHH NARGI</td>\n",
              "      <td>7</td>\n",
              "      <td>3000.0</td>\n",
              "      <td>kg</td>\n",
              "    </tr>\n",
              "    <tr>\n",
              "      <th>1</th>\n",
              "      <td>SẮN</td>\n",
              "      <td>Nguyên liệu</td>\n",
              "      <td>CÔNG TY TNHH NARGI</td>\n",
              "      <td>7</td>\n",
              "      <td>1500.0</td>\n",
              "      <td>kg</td>\n",
              "    </tr>\n",
              "    <tr>\n",
              "      <th>2</th>\n",
              "      <td>NGÔ</td>\n",
              "      <td>Nguyên liệu</td>\n",
              "      <td>CÔNG TY TNHH NARGI</td>\n",
              "      <td>7</td>\n",
              "      <td>3000.0</td>\n",
              "      <td>kg</td>\n",
              "    </tr>\n",
              "    <tr>\n",
              "      <th>3</th>\n",
              "      <td>BỘT_ĐỖ_TƯƠNG</td>\n",
              "      <td>Nguyên liệu</td>\n",
              "      <td>CÔNG TY TNHH NARGI</td>\n",
              "      <td>7</td>\n",
              "      <td>1500.0</td>\n",
              "      <td>kg</td>\n",
              "    </tr>\n",
              "    <tr>\n",
              "      <th>4</th>\n",
              "      <td>THÓC</td>\n",
              "      <td>Nguyên liệu</td>\n",
              "      <td>CÔNG TY TNHH NARGI</td>\n",
              "      <td>7</td>\n",
              "      <td>3000.0</td>\n",
              "      <td>kg</td>\n",
              "    </tr>\n",
              "    <tr>\n",
              "      <th>5</th>\n",
              "      <td>XƯƠNG_ĐỘNG_VẬT</td>\n",
              "      <td>Nguyên liệu</td>\n",
              "      <td>CÔNG TY CP YFOOD</td>\n",
              "      <td>7</td>\n",
              "      <td>1000.0</td>\n",
              "      <td>kg</td>\n",
              "    </tr>\n",
              "    <tr>\n",
              "      <th>6</th>\n",
              "      <td>MEN_VI_SINH</td>\n",
              "      <td>Nguyên liệu</td>\n",
              "      <td>CÔNG TY VNIBIO</td>\n",
              "      <td>2</td>\n",
              "      <td>100.0</td>\n",
              "      <td>lít</td>\n",
              "    </tr>\n",
              "    <tr>\n",
              "      <th>7</th>\n",
              "      <td>BAO_BÌ_25KG</td>\n",
              "      <td>Nguyên liệu</td>\n",
              "      <td>CÔNG TY TNHH WOPACK</td>\n",
              "      <td>7</td>\n",
              "      <td>1000.0</td>\n",
              "      <td>cái</td>\n",
              "    </tr>\n",
              "    <tr>\n",
              "      <th>8</th>\n",
              "      <td>BAO_BÌ_40KG</td>\n",
              "      <td>Nguyên liệu</td>\n",
              "      <td>CÔNG TY TNHH WOPACK</td>\n",
              "      <td>7</td>\n",
              "      <td>1000.0</td>\n",
              "      <td>cái</td>\n",
              "    </tr>\n",
              "  </tbody>\n",
              "</table>\n",
              "</div>\n",
              "      <button class=\"colab-df-convert\" onclick=\"convertToInteractive('df-1b796638-084e-4652-8b11-2370e65c1fcd')\"\n",
              "              title=\"Convert this dataframe to an interactive table.\"\n",
              "              style=\"display:none;\">\n",
              "        \n",
              "  <svg xmlns=\"http://www.w3.org/2000/svg\" height=\"24px\"viewBox=\"0 0 24 24\"\n",
              "       width=\"24px\">\n",
              "    <path d=\"M0 0h24v24H0V0z\" fill=\"none\"/>\n",
              "    <path d=\"M18.56 5.44l.94 2.06.94-2.06 2.06-.94-2.06-.94-.94-2.06-.94 2.06-2.06.94zm-11 1L8.5 8.5l.94-2.06 2.06-.94-2.06-.94L8.5 2.5l-.94 2.06-2.06.94zm10 10l.94 2.06.94-2.06 2.06-.94-2.06-.94-.94-2.06-.94 2.06-2.06.94z\"/><path d=\"M17.41 7.96l-1.37-1.37c-.4-.4-.92-.59-1.43-.59-.52 0-1.04.2-1.43.59L10.3 9.45l-7.72 7.72c-.78.78-.78 2.05 0 2.83L4 21.41c.39.39.9.59 1.41.59.51 0 1.02-.2 1.41-.59l7.78-7.78 2.81-2.81c.8-.78.8-2.07 0-2.86zM5.41 20L4 18.59l7.72-7.72 1.47 1.35L5.41 20z\"/>\n",
              "  </svg>\n",
              "      </button>\n",
              "      \n",
              "  <style>\n",
              "    .colab-df-container {\n",
              "      display:flex;\n",
              "      flex-wrap:wrap;\n",
              "      gap: 12px;\n",
              "    }\n",
              "\n",
              "    .colab-df-convert {\n",
              "      background-color: #E8F0FE;\n",
              "      border: none;\n",
              "      border-radius: 50%;\n",
              "      cursor: pointer;\n",
              "      display: none;\n",
              "      fill: #1967D2;\n",
              "      height: 32px;\n",
              "      padding: 0 0 0 0;\n",
              "      width: 32px;\n",
              "    }\n",
              "\n",
              "    .colab-df-convert:hover {\n",
              "      background-color: #E2EBFA;\n",
              "      box-shadow: 0px 1px 2px rgba(60, 64, 67, 0.3), 0px 1px 3px 1px rgba(60, 64, 67, 0.15);\n",
              "      fill: #174EA6;\n",
              "    }\n",
              "\n",
              "    [theme=dark] .colab-df-convert {\n",
              "      background-color: #3B4455;\n",
              "      fill: #D2E3FC;\n",
              "    }\n",
              "\n",
              "    [theme=dark] .colab-df-convert:hover {\n",
              "      background-color: #434B5C;\n",
              "      box-shadow: 0px 1px 3px 1px rgba(0, 0, 0, 0.15);\n",
              "      filter: drop-shadow(0px 1px 2px rgba(0, 0, 0, 0.3));\n",
              "      fill: #FFFFFF;\n",
              "    }\n",
              "  </style>\n",
              "\n",
              "      <script>\n",
              "        const buttonEl =\n",
              "          document.querySelector('#df-1b796638-084e-4652-8b11-2370e65c1fcd button.colab-df-convert');\n",
              "        buttonEl.style.display =\n",
              "          google.colab.kernel.accessAllowed ? 'block' : 'none';\n",
              "\n",
              "        async function convertToInteractive(key) {\n",
              "          const element = document.querySelector('#df-1b796638-084e-4652-8b11-2370e65c1fcd');\n",
              "          const dataTable =\n",
              "            await google.colab.kernel.invokeFunction('convertToInteractive',\n",
              "                                                     [key], {});\n",
              "          if (!dataTable) return;\n",
              "\n",
              "          const docLinkHtml = 'Like what you see? Visit the ' +\n",
              "            '<a target=\"_blank\" href=https://colab.research.google.com/notebooks/data_table.ipynb>data table notebook</a>'\n",
              "            + ' to learn more about interactive tables.';\n",
              "          element.innerHTML = '';\n",
              "          dataTable['output_type'] = 'display_data';\n",
              "          await google.colab.output.renderOutput(dataTable, element);\n",
              "          const docLink = document.createElement('div');\n",
              "          docLink.innerHTML = docLinkHtml;\n",
              "          element.appendChild(docLink);\n",
              "        }\n",
              "      </script>\n",
              "    </div>\n",
              "  </div>\n",
              "  "
            ]
          },
          "metadata": {},
          "execution_count": 78
        }
      ]
    },
    {
      "cell_type": "markdown",
      "source": [
        "### **2.2. Import Google Sheet**"
      ],
      "metadata": {
        "id": "3m-Rg0o1KZD2"
      }
    },
    {
      "cell_type": "markdown",
      "source": [
        "#### 2.2.1 Demand"
      ],
      "metadata": {
        "id": "fhCuvcfTKZ4c"
      }
    },
    {
      "cell_type": "code",
      "execution_count": 79,
      "outputs": [],
      "source": [
        "db_demand='https://github.com/binhdam/SCHackFestRound3/raw/main/INPUT_DEMAND.xlsx'\n",
        "\n",
        "xl = pd.ExcelFile('https://github.com/binhdam/SCHackFestRound3/raw/main/INPUT_DEMAND.xlsx')\n",
        "markets = xl.sheet_names  # see all sheet names\n",
        "\n",
        "# import demand dataframe into a dictionary\n",
        "df_demand={}\n",
        "for market in markets:\n",
        "  df_demand[market]  = pd.read_excel(db_demand,sheet_name=market)"
      ],
      "metadata": {
        "pycharm": {
          "name": "#%%\n"
        },
        "id": "wJni84i5GZKE"
      }
    },
    {
      "cell_type": "markdown",
      "source": [
        "#### 2.2.2 Stock on hand"
      ],
      "metadata": {
        "id": "ylY-jL_IKfW4"
      }
    },
    {
      "cell_type": "code",
      "source": [
        "db_soh='https://github.com/binhdam/SCHackFestRound3/raw/main/INPUT_SUPPLY_SOH.xlsx'\n",
        "\n",
        "xl=pd.ExcelFile('https://github.com/binhdam/SCHackFestRound3/raw/main/INPUT_SUPPLY_SOH.xlsx')\n",
        "locations=xl.sheet_names\n",
        "\n",
        "# import stock-on-hand dataframe into a dictionary\n",
        "df_soh={}\n",
        "for location in locations:\n",
        "  df_soh[location] = pd.read_excel(db_soh,sheet_name=location)"
      ],
      "metadata": {
        "id": "uQPXQcQEK_e2"
      },
      "execution_count": 80,
      "outputs": []
    },
    {
      "cell_type": "markdown",
      "source": [
        "### **2.3. Import PO Data**"
      ],
      "metadata": {
        "id": "18aTf4dlMY8x"
      }
    },
    {
      "cell_type": "code",
      "source": [
        "PO_dict={}\n",
        "PO_sheet=[]\n",
        "PO_sheet.append(\"https://github.com/schackfest/round3data/raw/main/PO997_ongoing.xlsx?raw=true\")\n",
        "PO_sheet.append(\"https://github.com/schackfest/round3data/raw/main/PO998_ongoing.xlsx?raw=true\")\n",
        "for PO in PO_sheet:\n",
        "  df_PO = pd.read_excel(PO)\n",
        "  number_of_items=max([i for i in df_PO['ĐƠN ĐẶT HÀNG'].values if isinstance(i, int)])\n",
        "  PO_num = df_PO['Unnamed: 4'][1]    #Mã đặt hàng\n",
        "  # PO_dict[PO_num]={}\n",
        "  # create default dict with value is list\n",
        "  PO_dict[PO_num] = []\n",
        "  \"\"\"count xem có bao nhiêu thằng trong mã PO này, để tạo từng đầy row\"\"\"\n",
        "  for i in range(number_of_items):\n",
        "    tmp_dict = {}\n",
        "    tmp_dict[\"item\"] = df_PO['Unnamed: 1'][7+i]\n",
        "    tmp_dict[\"quantity\"] = df_PO['Unnamed: 2'][7+i]\n",
        "    tmp_dict[\"unit\"]= df_PO['Unnamed: 3'][7+i]\n",
        "    tmp_dict[\"expiry_date\"]=pd.to_datetime(\n",
        "                                str(df_PO['Unnamed: 6'][7+i])\n",
        "                                [(str(df_PO['Unnamed: 6'][7+i]).find(':')+1):].lstrip(),\n",
        "                                 format='%d-%b-%Y')#date có dạng dd-MMM-YYYY\n",
        "    # check tmp_dict[\"expiry_date\"] is NaT\n",
        "    if tmp_dict[\"expiry_date\"] != tmp_dict[\"expiry_date\"]:\n",
        "      tmp_dict[\"expiry_date\"] = pd.to_datetime('31-Dec-2100', format='%d-%b-%Y')\n",
        "    arrival_date_cell = df_PO[df_PO['Unnamed: 1'].str.contains('Thời gian giao hàng') == True]['Unnamed: 1'].values[0]\n",
        "    tmp_dict[\"arrival_date\"] = pd.to_datetime(\n",
        "                        arrival_date_cell[arrival_date_cell.find(':')+1:].lstrip()\n",
        "                        ,format='%d-%b-%Y')\n",
        "    PO_dict[PO_num].append(tmp_dict)\n",
        "\n",
        "# PO_dict\n",
        "po_list = []\n",
        "for k, v in PO_dict.items():\n",
        "  for item in v:\n",
        "    po_list.append(item)\n",
        "po_list"
      ],
      "metadata": {
        "id": "lKO5w7dWMYu7",
        "colab": {
          "base_uri": "https://localhost:8080/"
        },
        "outputId": "e2a8d76e-a399-4d2a-8013-c1a7647e1572"
      },
      "execution_count": 81,
      "outputs": [
        {
          "output_type": "execute_result",
          "data": {
            "text/plain": [
              "[{'item': 'BAO_BÌ_25KG',\n",
              "  'quantity': 800,\n",
              "  'unit': 'cái',\n",
              "  'expiry_date': Timestamp('2100-12-31 00:00:00'),\n",
              "  'arrival_date': Timestamp('2023-04-01 00:00:00')},\n",
              " {'item': 'BAO_BÌ_40KG',\n",
              "  'quantity': 200,\n",
              "  'unit': 'cái',\n",
              "  'expiry_date': Timestamp('2100-12-31 00:00:00'),\n",
              "  'arrival_date': Timestamp('2023-04-01 00:00:00')},\n",
              " {'item': 'BỘT_ĐỖ_TƯƠNG',\n",
              "  'quantity': 2000,\n",
              "  'unit': 'kg',\n",
              "  'expiry_date': Timestamp('2023-07-14 00:00:00'),\n",
              "  'arrival_date': Timestamp('2023-04-05 00:00:00')},\n",
              " {'item': 'THÓC',\n",
              "  'quantity': 4000,\n",
              "  'unit': 'kg',\n",
              "  'expiry_date': Timestamp('2023-07-14 00:00:00'),\n",
              "  'arrival_date': Timestamp('2023-04-05 00:00:00')}]"
            ]
          },
          "metadata": {},
          "execution_count": 81
        }
      ]
    },
    {
      "cell_type": "markdown",
      "source": [
        "# **B. Main Algorithm**\n",
        "\n",
        "This section is used to perform the main algorithm to get the output. It consists of two main steps:\n",
        "\n",
        "1. Create MPS with Simplex LP (Optimization)\n",
        "2. Create MRP from MPS and Inventory Status"
      ],
      "metadata": {
        "id": "tuD0ftLrLCwc"
      }
    },
    {
      "cell_type": "markdown",
      "source": [
        "## **1. Create MPS with Optimization**"
      ],
      "metadata": {
        "id": "woXX6kpQLHPh"
      }
    },
    {
      "cell_type": "code",
      "execution_count": 82,
      "outputs": [],
      "source": [
        "start_date = datetime(2023, 2, 20)\n",
        "action_date = datetime(2023, 4, 1)\n",
        "end_date = datetime(2023, 6, 30)\n",
        "total_day = end_date - start_date + timedelta(days=1)"
      ],
      "metadata": {
        "pycharm": {
          "name": "#%%\n"
        },
        "id": "6lwf8I06GZKF"
      }
    },
    {
      "cell_type": "markdown",
      "source": [
        "### 2.1. Define useful functions"
      ],
      "metadata": {
        "id": "-Ezegk3ZLdQY"
      }
    },
    {
      "cell_type": "code",
      "execution_count": 83,
      "outputs": [],
      "source": [
        "def table_info(day, var, inventory=None, product=None):\n",
        "    global df_soh_chicken, start_date\n",
        "    num_product_oh = 0\n",
        "    day = start_date + timedelta(days=day)\n",
        "    if var == \"X\":\n",
        "        num_product_oh = 0\n",
        "        for k, v in df_soh_chicken.items():\n",
        "            tmp = v[v['nsx'] == day]\n",
        "            num_product_oh += tmp[tmp['item'] == product]['qty'].sum()\n",
        "    elif var == \"Y\":\n",
        "        v = df_soh_chicken[inventory]\n",
        "        v = v[v['nsx'] == day]\n",
        "        num_product_oh = v[v['item'] == product]['qty'].sum()\n",
        "    else:\n",
        "        raise Exception(\"var must be X or Y\")\n",
        "\n",
        "    return num_product_oh\n",
        "\n",
        "def day_in_soh(df, start_date):\n",
        "    lis = []\n",
        "    for v in df.values():\n",
        "        for nsx in v[\"nsx\"]:\n",
        "            if nsx not in lis:\n",
        "                lis.append(nsx)\n",
        "    lis = sorted([(x - start_date).days for x in lis])\n",
        "    return lis\n",
        "\n",
        "def find_sunday(start_date, end_date):\n",
        "    lis = []\n",
        "    for i in range((end_date - start_date).days + 1):\n",
        "        day = start_date + timedelta(days=i)\n",
        "        if day.weekday() == 6:\n",
        "            lis.append(i)\n",
        "    return lis\n",
        "\n",
        "def find_day_start_month(start_date, end_date):\n",
        "    lis = []\n",
        "    for i in range((end_date - start_date).days + 1):\n",
        "        day = start_date + timedelta(days=i)\n",
        "        if day.day == 1:\n",
        "            lis.append(i)\n",
        "    return lis\n",
        "\n",
        "def find_day_end_month(start_date, end_date):\n",
        "    lis = []\n",
        "    for i in range((end_date - start_date).days + 2):\n",
        "        day = start_date + timedelta(days=i)\n",
        "        if day.day == 1:\n",
        "            lis.append(i - 1)\n",
        "    return lis\n",
        "\n",
        "def find_24_day(start_date, end_date):\n",
        "    lis = []\n",
        "    for i in range((end_date - start_date).days + 1):\n",
        "        day = start_date + timedelta(days=i)\n",
        "        if day.weekday() == 0 or day.weekday() == 2:\n",
        "            lis.append(i)\n",
        "    return lis\n"
      ],
      "metadata": {
        "pycharm": {
          "name": "#%%\n"
        },
        "id": "CsSXwN8-GZKK"
      }
    },
    {
      "cell_type": "code",
      "execution_count": 84,
      "outputs": [],
      "source": [
        "def f(day, warehouse):\n",
        "    global T\n",
        "    day = day if warehouse == 0 else day - 1\n",
        "    for i in T[::-1]:\n",
        "      if i <= day:\n",
        "        return i\n",
        "    return -1\n",
        "\n",
        "def g(day, warehouse):\n",
        "    global T, MAX_HSD\n",
        "    # relax it, suppose MAX_HSD is much higher delay time and transport time\n",
        "    return max(day - MAX_HSD, 0)\n"
      ],
      "metadata": {
        "pycharm": {
          "name": "#%%\n"
        },
        "id": "Wkg_W2RhGZKN"
      }
    },
    {
      "cell_type": "markdown",
      "source": [
        "### 2.2. Problem Formulation and Optimize Production Plan"
      ],
      "metadata": {
        "id": "OAHknXb7LpF4"
      }
    },
    {
      "cell_type": "markdown",
      "source": [
        "#### 2.2.1. Chicken"
      ],
      "metadata": {
        "id": "Umy-2cWFbQ6F"
      }
    },
    {
      "cell_type": "markdown",
      "source": [
        "##### 2.2.1.1. Input"
      ],
      "metadata": {
        "id": "WFjKfFyipTYl"
      }
    },
    {
      "cell_type": "code",
      "execution_count": 85,
      "outputs": [],
      "source": [
        "# Plan for WOW_CHICKEN\n",
        "chicken_alias = [\"WOW_CHICKEN_25KG\", \"WOW_CHICKEN_40KG\"]\n",
        "df_demand_chicken = {}\n",
        "for k, v in df_demand.items():\n",
        "    df_demand_chicken[k] = v[v['ITEM'].isin(chicken_alias)]\n",
        "df_demand_chicken_arr = np.zeros((3, 2, 2)) # 3 months, 2 city, 2 product\n",
        "for i, city in enumerate(df_demand_chicken.keys()):\n",
        "  for j, (_, row) in enumerate(df_demand_chicken[city].iterrows()):\n",
        "    df_demand_chicken_arr[0, i, j] = row['APR_2023']\n",
        "    df_demand_chicken_arr[1, i, j] = row['MAY_2023']\n",
        "    df_demand_chicken_arr[2, i, j] = row['JUN_2023']"
      ],
      "metadata": {
        "pycharm": {
          "name": "#%%\n"
        },
        "id": "WWCGuYl4GZKG"
      }
    },
    {
      "cell_type": "code",
      "execution_count": 86,
      "outputs": [],
      "source": [
        "N = list(range(total_day.days))\n",
        "N_star = day_in_soh(df_soh_chicken, start_date)\n",
        "N_bar = list(range((action_date - start_date).days))\n",
        "N_off = find_sunday(start_date, end_date)\n",
        "MAX_CAPACITY = 3000\n",
        "P = df_demand_chicken_arr\n",
        "MAX_HSD = 30  #day\n",
        "S = find_day_start_month(start_date, end_date)[1:]\n",
        "E = find_day_end_month(start_date, end_date)[2:]\n",
        "T = find_24_day(start_date, end_date)"
      ],
      "metadata": {
        "pycharm": {
          "name": "#%%\n"
        },
        "id": "SlxDnXwRGZKM"
      }
    },
    {
      "cell_type": "code",
      "execution_count": 87,
      "outputs": [
        {
          "output_type": "stream",
          "name": "stdout",
          "text": [
            "0 Đông Nam Bộ\n",
            "1 Đồng bằng Sông Cửu Long\n",
            "2 Nhà máy\n"
          ]
        },
        {
          "output_type": "execute_result",
          "data": {
            "text/plain": [
              "{0:    item    qty ĐƠN VỊ        nsx        hsd\n",
              " 3     0  362.0    bao 2023-03-28 2023-05-27\n",
              " 4     1  100.0    bao 2023-03-28 2023-05-27,\n",
              " 1:    item    qty ĐƠN VỊ        nsx        hsd\n",
              " 3     0  754.0    bao 2023-03-27 2023-05-26\n",
              " 4     0  112.0    bao 2023-03-19 2023-05-18\n",
              " 5     0   30.0    bao 2023-02-20 2023-04-21\n",
              " 6     1  369.0    bao 2023-03-27 2023-05-26,\n",
              " 2:     item    qty ĐƠN VỊ        nsx        hsd\n",
              " 13     0  307.0    bao 2023-03-29 2023-05-28\n",
              " 14     1  117.0    bao 2023-03-29 2023-05-28}"
            ]
          },
          "metadata": {},
          "execution_count": 87
        }
      ],
      "source": [
        "df_soh_chicken = {}\n",
        "for w in df_soh.keys():\n",
        "    df_soh_chicken[w] = df_soh[w][df_soh[w]['ITEM'].isin(chicken_alias)]\n",
        "for i, k in enumerate(df_soh_chicken.keys()):\n",
        "    print(i, k)\n",
        "    df_soh_chicken[i] = df_soh_chicken.pop(k).rename(columns={'ITEM': 'item', 'TỒN KHO CUỐI NGÀY 31/3/2023': 'qty', 'NGÀY SẢN XUẤT':\"nsx\", 'HẠN SỬ DỤNG TRÊN BAO BÌ':\"hsd\"})\n",
        "mapping = {\"WOW_CHICKEN_25KG\": 0, \"WOW_CHICKEN_40KG\": 1}\n",
        "for k, v in df_soh_chicken.items():\n",
        "    df_soh_chicken[k] = v.assign(item=v['item'].map(mapping))\n",
        "# format nsx to datatime\n",
        "for k, v in df_soh_chicken.items():\n",
        "    df_soh_chicken[k]['nsx'] = pd.to_datetime(v['nsx'], format='%d/%m/%Y')\n",
        "    df_soh_chicken[k]['hsd'] = pd.to_datetime(v['hsd'], format='%d/%m/%Y')\n",
        "df_soh_chicken"
      ],
      "metadata": {
        "pycharm": {
          "name": "#%%\n"
        },
        "colab": {
          "base_uri": "https://localhost:8080/"
        },
        "id": "2DvVdFlmGZKH",
        "outputId": "96a4e204-717a-40c0-c547-fef7878ab33d"
      }
    },
    {
      "cell_type": "markdown",
      "source": [
        "##### 2.2.1.2. Problem Formulation"
      ],
      "metadata": {
        "id": "Jv3Rqs2aojA_"
      }
    },
    {
      "cell_type": "markdown",
      "source": [
        "###### a. Decision Variables"
      ],
      "metadata": {
        "id": "mozNNUeGpgUJ"
      }
    },
    {
      "cell_type": "code",
      "source": [
        "#Create Decision Variables\n",
        "solver = pywraplp.Solver.CreateSolver(\"SCIP\")\n",
        "X = {}     #production\n",
        "Y = {}     #ship from factory to warehouse\n",
        "Z = {}     #ship from warehouse to customer\n",
        "a = {}\n",
        "b = {}\n",
        "Z_star = {}\n",
        "M_BIG = 1e9     #a big number\n",
        "\n",
        "for i in N:\n",
        "    for j in range(2):\n",
        "        X[i, j] = solver.NumVar(0, solver.infinity(), 'X[%i,%i]' % (i, j))\n",
        "        for k in range(2):\n",
        "            Y[i, j, k] = solver.NumVar(0, solver.infinity(), 'Y[%i,%i,%i]' % (i, j, k))\n",
        "            Z[i, j, k] = solver.NumVar(0, solver.infinity(), 'z[%i,%i,%i]' % (i, j, k))\n",
        "            # b[i, j, k] = solver.BoolVar('b[%i,%i,%i]' % (i, j, k))\n",
        "            if i < len(S):\n",
        "                # TODO: fix me if there is no feasible solution\n",
        "                a[i, j, k] = solver.NumVar(0, solver.infinity(), 'a[%i,%i,%i]' % (i, j, k))\n",
        "                Z_star[i, j, k] = solver.NumVar(0, solver.infinity(), 'Z_star[%i,%i,%i]' % (i, j, k))\n",
        "                # Z_star[i, j, k] = solver.NumVar(0, 10, 'Z_star[%i,%i,%i]' % (i, j, k))"
      ],
      "metadata": {
        "id": "1vkf9Og2pmJH"
      },
      "execution_count": 88,
      "outputs": []
    },
    {
      "cell_type": "markdown",
      "source": [
        "###### b. Constraints"
      ],
      "metadata": {
        "id": "TcP8sMogpxz9"
      }
    },
    {
      "cell_type": "code",
      "execution_count": 89,
      "outputs": [],
      "source": [
        "# Create the constraints\n",
        "for i in N_bar + N_off:\n",
        "    if i not in N_star:\n",
        "        for j in range(2):\n",
        "            solver.Add(X[i, j] == 0)\n",
        "            for k in range(2):\n",
        "                solver.Add(Y[i, j, k] == 0)\n",
        "\n",
        "# for i in N_bar:\n",
        "for i in N_bar + N_off:\n",
        "    for j in range(2):\n",
        "        for k in range(2):\n",
        "            solver.Add(Z[i, j, k] == 0)\n",
        "\n",
        "for i in N_star:\n",
        "    for j in range(2):\n",
        "        solver.Add(X[i, j] == table_info(i, 'X', product=j))\n",
        "        for k in range(2):\n",
        "            vals = table_info(i, \"Y\", inventory=j, product=k)\n",
        "            if vals > 0:\n",
        "                solver.Add(Y[i, j, k] == table_info(i, \"Y\", inventory=j, product=k))\n",
        "\n",
        "for i in N:\n",
        "    if i not in N_off and i not in N_star:\n",
        "        solver.Add(25 * X[i, 0] + 40 * X[i, 1] <= MAX_CAPACITY)\n",
        "\n",
        "for i in N:\n",
        "    solver.Add(Y[i, 0, 0] + Y[i, 1, 0] == X[i, 0])\n",
        "    solver.Add(Y[i, 0, 1] + Y[i, 1, 1] == X[i, 1])\n",
        "\n",
        "for s, e in zip(S, E):\n",
        "    for j in range(2):\n",
        "        c1 = solver.Constraint(0, 0)\n",
        "        for i in range(s, e):\n",
        "            c1.SetCoefficient(Z[i, j, 0], -0.7)\n",
        "            c1.SetCoefficient(Z[i, j, 1], -0.7)\n",
        "            if i >= e - 14:\n",
        "                c1.SetCoefficient(Z[i, j, 0], 1)\n",
        "                c1.SetCoefficient(Z[i, j, 1], 1)\n",
        "\n",
        "for j in range(2):\n",
        "    for k in range(2):\n",
        "        for x in range(len(E)):\n",
        "            c2 = solver.Constraint(P[x, j, k], P[x, j, k])\n",
        "            c2.SetCoefficient(a[x, j, k], 1)\n",
        "            for i in range(S[x], E[x]):\n",
        "                c2.SetCoefficient(Z[i, j, k], 1)\n",
        "\n",
        "for i in N:\n",
        "    for j in range(2):\n",
        "        for k in range(2):\n",
        "            c3 = solver.Constraint(-solver.infinity(), 0)\n",
        "            c3.SetCoefficient(Z[i, j, k], 1)\n",
        "            gv = g(i, j)\n",
        "            fv = f(i, j)\n",
        "            if fv < 0:\n",
        "                continue\n",
        "            for m in range(g(i, j), f(i, j)):\n",
        "                c3.SetCoefficient(Y[m, j, k], -1)\n",
        "\n",
        "for m in N:\n",
        "    for j in range(2):\n",
        "        for k in range(2):\n",
        "            c4 = solver.Constraint(-solver.infinity(), 0)\n",
        "            for i in range(m+1):\n",
        "                c4.SetCoefficient(Z[i, j, k], 1)\n",
        "            fv = f(m + 1, j)\n",
        "            if fv < 0:\n",
        "                continue\n",
        "            for i in range(fv):\n",
        "                c4.SetCoefficient(Y[i, j, k], -1)\n",
        "\n",
        "# for x, (s, e) in enumerate(zip(S, E)):\n",
        "#     for i in range(s, e):\n",
        "#         if i not in N_off:\n",
        "#             for j in range(2):\n",
        "#                 for k in range(2):\n",
        "#                     c5 = solver.Add(Z_star[x, j, k] <= Z[i, j, k])\n",
        "#                     c6 = solver.Add(Z_star[x, j, k] >= Z[i, j, k] - M_BIG * b[i, j, k])"
      ],
      "metadata": {
        "pycharm": {
          "name": "#%%\n"
        },
        "id": "b3GF-ILgGZKO"
      }
    },
    {
      "cell_type": "markdown",
      "source": [
        "###### c. Objective Function"
      ],
      "metadata": {
        "id": "IzZG9NHPp4mf"
      }
    },
    {
      "cell_type": "code",
      "source": [
        "# Create the objective function, change the coefficient of the variables.\n",
        "objective = solver.Objective()\n",
        "for i in N:\n",
        "    for j in range(2):\n",
        "        for k in range(2):\n",
        "            objective.SetCoefficient(Z[i, j, k], -1)\n",
        "            objective.SetCoefficient(Y[i, j, k], 1)\n",
        "            if i < len(S):\n",
        "                objective.SetCoefficient(a[i, j, k], 1000)\n",
        "                # objective.SetCoefficient(Z_star[i, j, k], -1)\n",
        "objective.SetMinimization()\n",
        "print('Number of variables =', solver.NumVariables())\n",
        "print('Number of constraints =', solver.NumConstraints())\n",
        "status = solver.Solve()\n",
        "print(\"Status: \", status)"
      ],
      "metadata": {
        "colab": {
          "base_uri": "https://localhost:8080/"
        },
        "id": "O2F5k9hJp3OG",
        "outputId": "f079f791-0f2c-4627-95c0-ee5a159abdfe"
      },
      "execution_count": 90,
      "outputs": [
        {
          "output_type": "stream",
          "name": "stdout",
          "text": [
            "Number of variables = 1334\n",
            "Number of constraints = 1997\n",
            "Status:  0\n"
          ]
        }
      ]
    },
    {
      "cell_type": "code",
      "execution_count": 91,
      "outputs": [
        {
          "output_type": "stream",
          "name": "stdout",
          "text": [
            "Objective value = 392125.0\n",
            "sum x:  9907.875\n",
            "sum a:  392.12500000000136\n",
            "sum y:  9907.875\n",
            "sum z:  9907.874999999998\n",
            "sum x0:  7249.999999999997\n",
            "sum x1:  2657.8750000000014\n"
          ]
        }
      ],
      "source": [
        "#Handle different situations\n",
        "if status == pywraplp.Solver.OPTIMAL:\n",
        "    print('Objective value =', solver.Objective().Value())\n",
        "    sum_a = 0\n",
        "    for i in range(len(S)):\n",
        "        for j in range(2):\n",
        "            for k in range(2):\n",
        "                v = a[i, j, k].solution_value()\n",
        "                sum_a += v\n",
        "    sum_x = 0\n",
        "    sum_x0 = 0\n",
        "    sum_x1 = 0\n",
        "    for i in N:\n",
        "        for j in range(2):\n",
        "            sum_x += X[i, j].solution_value()\n",
        "            if j == 0:\n",
        "                sum_x0 += X[i, j].solution_value()\n",
        "            else:\n",
        "                sum_x1 += X[i, j].solution_value()\n",
        "    for j in range(2):\n",
        "        for k in range(2):\n",
        "            sum_z = 0\n",
        "            sum_y = 0\n",
        "            for i in N:\n",
        "                sum_z += Z[i, j, k].solution_value()\n",
        "                sum_y += Y[i, j, k].solution_value()\n",
        "    sum_y = 0\n",
        "    for i in N:\n",
        "        for j in range(2):\n",
        "            for k in range(2):\n",
        "                sum_y += Y[i, j, k].solution_value()\n",
        "    sum_z = 0\n",
        "    for i in N:\n",
        "        for j in range(2):\n",
        "            for k in range(2):\n",
        "                sum_z += Z[i, j, k].solution_value()\n",
        "    print(\"sum x: \", sum_x)\n",
        "    print(\"sum a: \", sum_a)\n",
        "    print(\"sum y: \", sum_y)\n",
        "    print(\"sum z: \", sum_z)\n",
        "    print(\"sum x0: \", sum_x0)\n",
        "    print(\"sum x1: \", sum_x1)\n",
        "else:\n",
        "    print('The problem does not have an optimal solution.')"
      ],
      "metadata": {
        "pycharm": {
          "name": "#%%\n"
        },
        "colab": {
          "base_uri": "https://localhost:8080/"
        },
        "id": "ttfZQhgiGZKR",
        "outputId": "f6804fd8-6380-49fa-da5f-ed37abefd297"
      }
    },
    {
      "cell_type": "code",
      "execution_count": 92,
      "outputs": [],
      "source": [
        "X_Results_Chicken = np.zeros((len(N), 2))\n",
        "Y_Results_Chicken = np.zeros((len(N), 2, 2))\n",
        "Z_Results_Chicken = np.zeros((len(N), 2, 2))\n",
        "a_Results_Chicken = np.zeros((len(S), 2, 2))\n",
        "for i in N:\n",
        "    for j in range(2):\n",
        "        X_Results_Chicken[i, j] = X[i, j].solution_value()\n",
        "        for k in range(2):\n",
        "            Y_Results_Chicken[i, j, k] = Y[i, j, k].solution_value()\n",
        "            Z_Results_Chicken[i, j, k] = Z[i, j, k].solution_value()\n",
        "            if i < len(S):\n",
        "                  a_Results_Chicken[i, j, k] = a[i, j, k].solution_value()"
      ],
      "metadata": {
        "pycharm": {
          "name": "#%%\n"
        },
        "id": "Tql7F7CWGZKT"
      }
    },
    {
      "cell_type": "markdown",
      "source": [
        "#### 2.2.2. Sheep"
      ],
      "metadata": {
        "id": "RZ9-ZkAZPrSG"
      }
    },
    {
      "cell_type": "markdown",
      "source": [
        "##### 2.2.2.1. Input"
      ],
      "metadata": {
        "id": "EMKQMiWKp-C5"
      }
    },
    {
      "cell_type": "code",
      "execution_count": 93,
      "outputs": [],
      "source": [
        "# Plan for STAR_SHEEP\n",
        "sheep_alias = [\"STAR_SHEEP_25KG\", \"STAR_SHEEP_40KG\"]\n",
        "df_demand_sheep = {}\n",
        "for k, v in df_demand.items():\n",
        "    df_demand_sheep[k] = v[v['ITEM'].isin(sheep_alias)]\n",
        "df_demand_sheep_arr = np.zeros((3, 2, 2)) # 3 months, 2 city, 2 product\n",
        "for i, city in enumerate(df_demand_sheep.keys()):\n",
        "  for j, (_, row) in enumerate(df_demand_sheep[city].iterrows()):\n",
        "    df_demand_sheep_arr[0, i, j] = row['APR_2023']\n",
        "    df_demand_sheep_arr[1, i, j] = row['MAY_2023']\n",
        "    df_demand_sheep_arr[2, i, j] = row['JUN_2023']"
      ],
      "metadata": {
        "pycharm": {
          "name": "#%%\n"
        },
        "id": "Rrfp3hvfGZKU"
      }
    },
    {
      "cell_type": "code",
      "execution_count": 94,
      "outputs": [
        {
          "output_type": "stream",
          "name": "stdout",
          "text": [
            "0 Đông Nam Bộ\n",
            "1 Đồng bằng Sông Cửu Long\n",
            "2 Nhà máy\n"
          ]
        },
        {
          "output_type": "execute_result",
          "data": {
            "text/plain": [
              "{0:    item    qty ĐƠN VỊ        nsx        hsd\n",
              " 0     0  146.0    bao 2023-03-28 2023-05-27\n",
              " 1     0   30.0    bao 2023-03-28 2023-05-27\n",
              " 2     1  110.0    bao 2023-03-28 2023-05-27,\n",
              " 1:    item    qty ĐƠN VỊ        nsx        hsd\n",
              " 0     0  208.0    bao 2023-03-27 2023-05-26\n",
              " 1     1  115.0    bao 2023-03-24 2023-05-23\n",
              " 2     1   20.0    bao 2023-03-27 2023-05-26,\n",
              " 2:     item   qty ĐƠN VỊ        nsx        hsd\n",
              " 11     0  97.0    bao 2023-03-30 2023-05-29\n",
              " 12     1  54.0    bao 2023-03-30 2023-05-29}"
            ]
          },
          "metadata": {},
          "execution_count": 94
        }
      ],
      "source": [
        "df_soh_sheep = {}\n",
        "for w in df_soh.keys():\n",
        "    df_soh_sheep[w] = df_soh[w][df_soh[w]['ITEM'].isin(sheep_alias)]\n",
        "for i, k in enumerate(df_soh_sheep.keys()):\n",
        "    print(i, k)\n",
        "    df_soh_sheep[i] = df_soh_sheep.pop(k).rename(columns={'ITEM': 'item', 'TỒN KHO CUỐI NGÀY 31/3/2023': 'qty', 'NGÀY SẢN XUẤT':\"nsx\", 'HẠN SỬ DỤNG TRÊN BAO BÌ':\"hsd\"})\n",
        "mapping = {\"STAR_SHEEP_25KG\": 0, \"STAR_SHEEP_40KG\": 1}\n",
        "for k, v in df_soh_sheep.items():\n",
        "    df_soh_sheep[k] = v.assign(item=v['item'].map(mapping))\n",
        "# format nsx to datatime\n",
        "for k, v in df_soh_sheep.items():\n",
        "    df_soh_sheep[k]['nsx'] = pd.to_datetime(v['nsx'], format='%d/%m/%Y')\n",
        "    df_soh_sheep[k]['hsd'] = pd.to_datetime(v['hsd'], format='%d/%m/%Y')\n",
        "df_soh_sheep"
      ],
      "metadata": {
        "pycharm": {
          "name": "#%%\n"
        },
        "colab": {
          "base_uri": "https://localhost:8080/"
        },
        "id": "q32gy7H3GZKV",
        "outputId": "da2e5806-2d4b-40b7-a09b-a761be0236f0"
      }
    },
    {
      "cell_type": "code",
      "execution_count": 95,
      "outputs": [],
      "source": [
        "def table_info(day, var, inventory=None, product=None):\n",
        "    global df_soh_sheep, start_date\n",
        "    num_product_oh = 0\n",
        "    day = start_date + timedelta(days=day)\n",
        "    if var == \"X\":\n",
        "        num_product_oh = 0\n",
        "        for k, v in df_soh_sheep.items():\n",
        "            tmp = v[v['nsx'] == day]\n",
        "            num_product_oh += tmp[tmp['item'] == product]['qty'].sum()\n",
        "    elif var == \"Y\":\n",
        "        v = df_soh_sheep[inventory]\n",
        "        v = v[v['nsx'] == day]\n",
        "        num_product_oh = v[v['item'] == product]['qty'].sum()\n",
        "    else:\n",
        "        raise Exception(\"var must be X or Y\")\n",
        "\n",
        "    return num_product_oh"
      ],
      "metadata": {
        "pycharm": {
          "name": "#%%\n"
        },
        "id": "t3UiryipGZKX"
      }
    },
    {
      "cell_type": "code",
      "execution_count": 96,
      "outputs": [],
      "source": [
        "N = list(range(total_day.days))\n",
        "N_star = day_in_soh(df_soh_sheep, start_date)\n",
        "N_bar = list(range((action_date - start_date).days))\n",
        "N_off = find_sunday(start_date, end_date)\n",
        "MAX_CAPACITY = 2000\n",
        "P = df_demand_sheep_arr\n",
        "MAX_HSD = 30  #day\n",
        "S = find_day_start_month(start_date, end_date)[1:]\n",
        "E = find_day_end_month(start_date, end_date)[2:]\n",
        "T = find_24_day(start_date, end_date)"
      ],
      "metadata": {
        "pycharm": {
          "name": "#%%\n"
        },
        "id": "ZsIWLpC5GZKY"
      }
    },
    {
      "cell_type": "markdown",
      "source": [
        "##### 2.2.2.2. Problem Formulation"
      ],
      "metadata": {
        "id": "fj638fHNqAY2"
      }
    },
    {
      "cell_type": "markdown",
      "source": [
        "###### a. Decision Variables"
      ],
      "metadata": {
        "id": "aY_G-CHqqHL0"
      }
    },
    {
      "cell_type": "code",
      "source": [
        "solver = pywraplp.Solver.CreateSolver(\"SCIP\")\n",
        "X = {}\n",
        "Y = {}\n",
        "Z = {}\n",
        "a = {}\n",
        "b = {}\n",
        "Z_star = {}\n",
        "M_BIG = 1e9\n",
        "\n",
        "for i in N:\n",
        "    for j in range(2):\n",
        "        X[i, j] = solver.NumVar(0, solver.infinity(), 'X[%i,%i]' % (i, j))\n",
        "        for k in range(2):\n",
        "            Y[i, j, k] = solver.NumVar(0, solver.infinity(), 'Y[%i,%i,%i]' % (i, j, k))\n",
        "            Z[i, j, k] = solver.NumVar(0, solver.infinity(), 'z[%i,%i,%i]' % (i, j, k))\n",
        "            # b[i, j, k] = solver.BoolVar('b[%i,%i,%i]' % (i, j, k))\n",
        "            if i < len(S):\n",
        "                # TODO: fix me if there is no feasible solution\n",
        "                a[i, j, k] = solver.NumVar(0, solver.infinity(), 'a[%i,%i,%i]' % (i, j, k))\n",
        "                Z_star[i, j, k] = solver.NumVar(0, solver.infinity(), 'Z_star[%i,%i,%i]' % (i, j, k))\n",
        "                # Z_star[i, j, k] = solver.NumVar(0, 10, 'Z_star[%i,%i,%i]' % (i, j, k))"
      ],
      "metadata": {
        "id": "l9YDsItpqKrp"
      },
      "execution_count": 97,
      "outputs": []
    },
    {
      "cell_type": "markdown",
      "source": [
        "###### b. Constraints"
      ],
      "metadata": {
        "id": "Fs_VwXjMqM1i"
      }
    },
    {
      "cell_type": "code",
      "execution_count": 98,
      "outputs": [],
      "source": [
        "# Create the constraints.\n",
        "for i in N_bar + N_off:\n",
        "    if i not in N_star:\n",
        "        for j in range(2):\n",
        "            solver.Add(X[i, j] == 0)\n",
        "            for k in range(2):\n",
        "                solver.Add(Y[i, j, k] == 0)\n",
        "\n",
        "# for i in N_bar:\n",
        "for i in N_bar + N_off:\n",
        "    for j in range(2):\n",
        "        for k in range(2):\n",
        "            solver.Add(Z[i, j, k] == 0)\n",
        "\n",
        "for i in N_star:\n",
        "    for j in range(2):\n",
        "        solver.Add(X[i, j] == table_info(i, 'X', product=j))\n",
        "        for k in range(2):\n",
        "            vals = table_info(i, \"Y\", inventory=j, product=k)\n",
        "            if vals > 0:\n",
        "                solver.Add(Y[i, j, k] == table_info(i, \"Y\", inventory=j, product=k))\n",
        "\n",
        "for i in N:\n",
        "    if i not in N_off and i not in N_star:\n",
        "        solver.Add(25 * X[i, 0] + 40 * X[i, 1] <= MAX_CAPACITY)\n",
        "\n",
        "for i in N:\n",
        "    solver.Add(Y[i, 0, 0] + Y[i, 1, 0] == X[i, 0])\n",
        "    solver.Add(Y[i, 0, 1] + Y[i, 1, 1] == X[i, 1])\n",
        "\n",
        "for s, e in zip(S, E):\n",
        "    for j in range(2):\n",
        "        c1 = solver.Constraint(0, 0)\n",
        "        for i in range(s, e):\n",
        "            c1.SetCoefficient(Z[i, j, 0], -0.7)\n",
        "            c1.SetCoefficient(Z[i, j, 1], -0.7)\n",
        "            if i >= e - 14:\n",
        "                c1.SetCoefficient(Z[i, j, 0], 1)\n",
        "                c1.SetCoefficient(Z[i, j, 1], 1)\n",
        "\n",
        "for j in range(2):\n",
        "    for k in range(2):\n",
        "        for x in range(len(E)):\n",
        "            c2 = solver.Constraint(P[x, j, k], P[x, j, k])\n",
        "            c2.SetCoefficient(a[x, j, k], 1)\n",
        "            for i in range(S[x], E[x]):\n",
        "                c2.SetCoefficient(Z[i, j, k], 1)\n",
        "\n",
        "for i in N:\n",
        "    for j in range(2):\n",
        "        for k in range(2):\n",
        "            c3 = solver.Constraint(-solver.infinity(), 0)\n",
        "            c3.SetCoefficient(Z[i, j, k], 1)\n",
        "            gv = g(i, j)\n",
        "            fv = f(i, j)\n",
        "            if fv < 0:\n",
        "                continue\n",
        "            for m in range(g(i, j), f(i, j)):\n",
        "                c3.SetCoefficient(Y[m, j, k], -1)\n",
        "\n",
        "for m in N:\n",
        "    for j in range(2):\n",
        "        for k in range(2):\n",
        "            c4 = solver.Constraint(-solver.infinity(), 0)\n",
        "            for i in range(m+1):\n",
        "                c4.SetCoefficient(Z[i, j, k], 1)\n",
        "            fv = f(m + 1, j)\n",
        "            if fv < 0:\n",
        "                continue\n",
        "            for i in range(fv):\n",
        "                c4.SetCoefficient(Y[i, j, k], -1)\n",
        "\n",
        "# for x, (s, e) in enumerate(zip(S, E)):\n",
        "#     for i in range(s, e):\n",
        "#         if i not in N_off:\n",
        "#             for j in range(2):\n",
        "#                 for k in range(2):\n",
        "#                     c5 = solver.Add(Z_star[x, j, k] <= Z[i, j, k])\n",
        "#                     c6 = solver.Add(Z_star[x, j, k] >= Z[i, j, k] - M_BIG * b[i, j, k])\n",
        "\n"
      ],
      "metadata": {
        "pycharm": {
          "name": "#%%\n"
        },
        "id": "SwVzIAMzGZKZ"
      }
    },
    {
      "cell_type": "markdown",
      "source": [
        "###### c. Objective Function"
      ],
      "metadata": {
        "id": "5GnnJ_8lqTdY"
      }
    },
    {
      "cell_type": "code",
      "source": [
        "# Create the objective function, change the coefficient of the variables.\n",
        "objective = solver.Objective()\n",
        "for i in N:\n",
        "    for j in range(2):\n",
        "        for k in range(2):\n",
        "            objective.SetCoefficient(Z[i, j, k], -1)\n",
        "            objective.SetCoefficient(Y[i, j, k], 1)\n",
        "            if i < len(S):\n",
        "                objective.SetCoefficient(a[i, j, k], 1000)\n",
        "                # objective.SetCoefficient(Z_star[i, j, k], -1)\n",
        "objective.SetMinimization()\n",
        "print('Number of variables =', solver.NumVariables())\n",
        "print('Number of constraints =', solver.NumConstraints())\n",
        "status = solver.Solve()\n",
        "print(\"Status: \", status)"
      ],
      "metadata": {
        "colab": {
          "base_uri": "https://localhost:8080/"
        },
        "id": "_YnzdsQ0qVd6",
        "outputId": "14fdbf5f-fa84-43eb-9674-c9497213ae2e"
      },
      "execution_count": 99,
      "outputs": [
        {
          "output_type": "stream",
          "name": "stdout",
          "text": [
            "Number of variables = 1334\n",
            "Number of constraints = 2006\n",
            "Status:  0\n"
          ]
        }
      ]
    },
    {
      "cell_type": "code",
      "execution_count": 100,
      "outputs": [
        {
          "output_type": "stream",
          "name": "stdout",
          "text": [
            "Objective value = 4.656612873077393e-10\n",
            "sum x:  5750.714705882353\n",
            "sum a:  6.758533762208354e-13\n",
            "sum y:  5750.714705882353\n",
            "sum z:  5750.714705882349\n",
            "sum x0:  3867.2588235294106\n",
            "sum x1:  1883.4558823529421\n"
          ]
        }
      ],
      "source": [
        "#Handle different situations\n",
        "if status == pywraplp.Solver.OPTIMAL:\n",
        "    print('Objective value =', solver.Objective().Value())\n",
        "    # sum a\n",
        "    sum_a = 0\n",
        "    for i in range(len(S)):\n",
        "        for j in range(2):\n",
        "            for k in range(2):\n",
        "                v = a[i, j, k].solution_value()\n",
        "                sum_a += v\n",
        "\n",
        "    sum_x = 0\n",
        "    sum_x0 = 0\n",
        "    sum_x1 = 0\n",
        "    for i in N:\n",
        "        for j in range(2):\n",
        "            sum_x += X[i, j].solution_value()\n",
        "            if j == 0:\n",
        "                sum_x0 += X[i, j].solution_value()\n",
        "            else:\n",
        "                sum_x1 += X[i, j].solution_value()\n",
        "    for j in range(2):\n",
        "        for k in range(2):\n",
        "            sum_z = 0\n",
        "            sum_y = 0\n",
        "            for i in N:\n",
        "                sum_z += Z[i, j, k].solution_value()\n",
        "                sum_y += Y[i, j, k].solution_value()\n",
        "\n",
        "    sum_y = 0\n",
        "    for i in N:\n",
        "        for j in range(2):\n",
        "            for k in range(2):\n",
        "                sum_y += Y[i, j, k].solution_value()\n",
        "    sum_z = 0\n",
        "    for i in N:\n",
        "        for j in range(2):\n",
        "            for k in range(2):\n",
        "                sum_z += Z[i, j, k].solution_value()\n",
        "\n",
        "    print(\"sum x: \", sum_x)\n",
        "    print(\"sum a: \", sum_a)\n",
        "    print(\"sum y: \", sum_y)\n",
        "    print(\"sum z: \", sum_z)\n",
        "    print(\"sum x0: \", sum_x0)\n",
        "    print(\"sum x1: \", sum_x1)\n",
        "    # for i in N:\n",
        "    #     for j in range(2):\n",
        "    #         print('X[%i,%i] = %i' % (i, j, X[i, j].solution_value()))\n",
        "    #         # for k in range(2):\n",
        "            #     print('Z[%i,%i,%i] = %i' % (i, j, k, Z[i, j, k].solution_value()))\n",
        "            #     print('Y[%i,%i,%i] = %i' % (i, j, k, Y[i, j, k].solution_value()))\n",
        "                # if i < 3:\n",
        "                    # print('a[%i,%i,%i] = %i' % (i, j, k, a[i, j, k].solution_value()))\n",
        "else:\n",
        "    print('The problem does not have an optimal solution.')"
      ],
      "metadata": {
        "pycharm": {
          "name": "#%%\n"
        },
        "colab": {
          "base_uri": "https://localhost:8080/"
        },
        "id": "1toF-yNdGZKb",
        "outputId": "b1720681-4d18-470c-c1b6-d8a878670bf7"
      }
    },
    {
      "cell_type": "code",
      "execution_count": 101,
      "outputs": [],
      "source": [
        "X_Results_SHEEP = np.zeros((len(N), 2))\n",
        "Y_Results_SHEEP = np.zeros((len(N), 2, 2))\n",
        "Z_Results_SHEEP = np.zeros((len(N), 2, 2))\n",
        "a_Results_SHEEP = np.zeros((len(S), 2, 2))\n",
        "for i in N:\n",
        "    for j in range(2):\n",
        "        X_Results_SHEEP[i, j] = X[i, j].solution_value()\n",
        "        for k in range(2):\n",
        "            Y_Results_SHEEP[i, j, k] = Y[i, j, k].solution_value()\n",
        "            Z_Results_SHEEP[i, j, k] = Z[i, j, k].solution_value()\n",
        "            if i < len(S):\n",
        "                  a_Results_SHEEP[i, j, k] = a[i, j, k].solution_value()"
      ],
      "metadata": {
        "pycharm": {
          "name": "#%%\n"
        },
        "id": "lXkP-m-PGZKc"
      }
    },
    {
      "cell_type": "markdown",
      "source": [
        "Tính thêm lượng hao hụt trong quá trình sản xuất (hao hụt 2%)"
      ],
      "metadata": {
        "id": "KVmCVi6Ad4le"
      }
    },
    {
      "cell_type": "code",
      "source": [
        "loss = 0.02\n",
        "\n",
        "X_Results_SHEEP = X_Results_SHEEP * 1/(1-loss)\n",
        "X_Results_Chicken = X_Results_Chicken * 1/(1-loss)"
      ],
      "metadata": {
        "id": "HLIR2PGwX04g"
      },
      "execution_count": 102,
      "outputs": []
    },
    {
      "cell_type": "markdown",
      "source": [
        "## **2. Calculate MRP**"
      ],
      "metadata": {
        "id": "qj-eycIhHmMj"
      }
    },
    {
      "cell_type": "markdown",
      "source": [
        "### 2.1. Tính toán Missing Raw Material Per Day"
      ],
      "metadata": {
        "id": "TNukOUW0N-2I"
      }
    },
    {
      "cell_type": "markdown",
      "source": [
        "Ở phần này, để tính được missing ingredient, chúng ta cần thực hiện các bước lần lượt như sau (output của bước trước dùng cho bươc sau).\n",
        "\n",
        "\n",
        "|Step| Output | Input |\n",
        "|---| --- | --- |\n",
        "|1| MPS | Refer to Optimization model above |\n",
        "|2| Raw Material Gross Requirement| MPS <br>BOM |\n",
        "|3| Missing Raw Material | Raw Material Gross Requirement<br> Raw Material Inventory Status|"
      ],
      "metadata": {
        "id": "c9ySPg9xh55D"
      }
    },
    {
      "cell_type": "code",
      "execution_count": 103,
      "outputs": [],
      "source": [
        "ingre = []\n",
        "for k, v in bom_dict.items():\n",
        "    for k in v.keys():\n",
        "        if k not in ingre:\n",
        "            ingre.append(k)\n",
        "default_bom = {i:0 for i in ingre}\n",
        "history_missing_ingredient = {i:copy.deepcopy(default_bom) for i in range(X_Results_SHEEP.shape[0])}\n",
        "for day, (chicken, sheep) in enumerate(zip(X_Results_Chicken, X_Results_SHEEP)):\n",
        "    chicken_25 = chicken[0]\n",
        "    chicken_40 = chicken[1]\n",
        "    sheep_25 = sheep[0]\n",
        "    sheep_40 = sheep[1]\n",
        "    for k, v in bom_dict[\"WOW_CHICKEN_25KG\"].items():\n",
        "        history_missing_ingredient[day][k] += chicken_25 * v\n",
        "    for k, v in bom_dict[\"WOW_CHICKEN_40KG\"].items():\n",
        "        history_missing_ingredient[day][k] += chicken_40 * v\n",
        "    for k, v in bom_dict[\"STAR_SHEEP_25KG\"].items():\n",
        "        history_missing_ingredient[day][k] += sheep_25 * v\n",
        "    for k, v in bom_dict[\"STAR_SHEEP_40KG\"].items():\n",
        "        history_missing_ingredient[day][k] += sheep_40 * v\n",
        "\n",
        "# history_missing_ingredient"
      ],
      "metadata": {
        "pycharm": {
          "name": "#%%\n"
        },
        "id": "KmVKK93wGZKh"
      }
    },
    {
      "cell_type": "code",
      "execution_count": 104,
      "outputs": [
        {
          "output_type": "execute_result",
          "data": {
            "text/plain": [
              "              ITEM  TỒN KHO CUỐI NGÀY 31/3/2023 ĐƠN VỊ NGÀY SẢN XUẤT  \\\n",
              "0              NGÔ                       7341.0     kg    2023-03-10   \n",
              "1              NGÔ                       1200.0     kg    2023-03-06   \n",
              "2            KHOAI                       7195.0     kg    2023-03-09   \n",
              "3              SẮN                       1999.0     kg    2023-03-02   \n",
              "4     BỘT_ĐỖ_TƯƠNG                       1817.0     kg    2023-02-20   \n",
              "5             THÓC                       7123.0     kg    2023-02-20   \n",
              "6   XƯƠNG_ĐỘNG_VẬT                       5202.0     kg    2023-03-22   \n",
              "7      MEN_VI_SINH                        727.0    lít    2023-03-31   \n",
              "8      MEN_VI_SINH                        100.0    lít    2023-03-26   \n",
              "9      BAO_BÌ_25KG                       1125.0    cái           NaT   \n",
              "10     BAO_BÌ_40KG                        400.0    cái           NaT   \n",
              "\n",
              "   HẠN SỬ DỤNG TRÊN BAO BÌ  \n",
              "0               2023-06-22  \n",
              "1               2023-06-18  \n",
              "2               2023-06-21  \n",
              "3               2023-06-14  \n",
              "4               2023-06-04  \n",
              "5               2023-06-04  \n",
              "6               2023-04-25  \n",
              "7               2023-05-04  \n",
              "8               2023-04-29  \n",
              "9                      NaT  \n",
              "10                     NaT  "
            ],
            "text/html": [
              "\n",
              "  <div id=\"df-a9cede64-3881-4bd8-ade7-33ef0760a5ae\">\n",
              "    <div class=\"colab-df-container\">\n",
              "      <div>\n",
              "<style scoped>\n",
              "    .dataframe tbody tr th:only-of-type {\n",
              "        vertical-align: middle;\n",
              "    }\n",
              "\n",
              "    .dataframe tbody tr th {\n",
              "        vertical-align: top;\n",
              "    }\n",
              "\n",
              "    .dataframe thead th {\n",
              "        text-align: right;\n",
              "    }\n",
              "</style>\n",
              "<table border=\"1\" class=\"dataframe\">\n",
              "  <thead>\n",
              "    <tr style=\"text-align: right;\">\n",
              "      <th></th>\n",
              "      <th>ITEM</th>\n",
              "      <th>TỒN KHO CUỐI NGÀY 31/3/2023</th>\n",
              "      <th>ĐƠN VỊ</th>\n",
              "      <th>NGÀY SẢN XUẤT</th>\n",
              "      <th>HẠN SỬ DỤNG TRÊN BAO BÌ</th>\n",
              "    </tr>\n",
              "  </thead>\n",
              "  <tbody>\n",
              "    <tr>\n",
              "      <th>0</th>\n",
              "      <td>NGÔ</td>\n",
              "      <td>7341.0</td>\n",
              "      <td>kg</td>\n",
              "      <td>2023-03-10</td>\n",
              "      <td>2023-06-22</td>\n",
              "    </tr>\n",
              "    <tr>\n",
              "      <th>1</th>\n",
              "      <td>NGÔ</td>\n",
              "      <td>1200.0</td>\n",
              "      <td>kg</td>\n",
              "      <td>2023-03-06</td>\n",
              "      <td>2023-06-18</td>\n",
              "    </tr>\n",
              "    <tr>\n",
              "      <th>2</th>\n",
              "      <td>KHOAI</td>\n",
              "      <td>7195.0</td>\n",
              "      <td>kg</td>\n",
              "      <td>2023-03-09</td>\n",
              "      <td>2023-06-21</td>\n",
              "    </tr>\n",
              "    <tr>\n",
              "      <th>3</th>\n",
              "      <td>SẮN</td>\n",
              "      <td>1999.0</td>\n",
              "      <td>kg</td>\n",
              "      <td>2023-03-02</td>\n",
              "      <td>2023-06-14</td>\n",
              "    </tr>\n",
              "    <tr>\n",
              "      <th>4</th>\n",
              "      <td>BỘT_ĐỖ_TƯƠNG</td>\n",
              "      <td>1817.0</td>\n",
              "      <td>kg</td>\n",
              "      <td>2023-02-20</td>\n",
              "      <td>2023-06-04</td>\n",
              "    </tr>\n",
              "    <tr>\n",
              "      <th>5</th>\n",
              "      <td>THÓC</td>\n",
              "      <td>7123.0</td>\n",
              "      <td>kg</td>\n",
              "      <td>2023-02-20</td>\n",
              "      <td>2023-06-04</td>\n",
              "    </tr>\n",
              "    <tr>\n",
              "      <th>6</th>\n",
              "      <td>XƯƠNG_ĐỘNG_VẬT</td>\n",
              "      <td>5202.0</td>\n",
              "      <td>kg</td>\n",
              "      <td>2023-03-22</td>\n",
              "      <td>2023-04-25</td>\n",
              "    </tr>\n",
              "    <tr>\n",
              "      <th>7</th>\n",
              "      <td>MEN_VI_SINH</td>\n",
              "      <td>727.0</td>\n",
              "      <td>lít</td>\n",
              "      <td>2023-03-31</td>\n",
              "      <td>2023-05-04</td>\n",
              "    </tr>\n",
              "    <tr>\n",
              "      <th>8</th>\n",
              "      <td>MEN_VI_SINH</td>\n",
              "      <td>100.0</td>\n",
              "      <td>lít</td>\n",
              "      <td>2023-03-26</td>\n",
              "      <td>2023-04-29</td>\n",
              "    </tr>\n",
              "    <tr>\n",
              "      <th>9</th>\n",
              "      <td>BAO_BÌ_25KG</td>\n",
              "      <td>1125.0</td>\n",
              "      <td>cái</td>\n",
              "      <td>NaT</td>\n",
              "      <td>NaT</td>\n",
              "    </tr>\n",
              "    <tr>\n",
              "      <th>10</th>\n",
              "      <td>BAO_BÌ_40KG</td>\n",
              "      <td>400.0</td>\n",
              "      <td>cái</td>\n",
              "      <td>NaT</td>\n",
              "      <td>NaT</td>\n",
              "    </tr>\n",
              "  </tbody>\n",
              "</table>\n",
              "</div>\n",
              "      <button class=\"colab-df-convert\" onclick=\"convertToInteractive('df-a9cede64-3881-4bd8-ade7-33ef0760a5ae')\"\n",
              "              title=\"Convert this dataframe to an interactive table.\"\n",
              "              style=\"display:none;\">\n",
              "        \n",
              "  <svg xmlns=\"http://www.w3.org/2000/svg\" height=\"24px\"viewBox=\"0 0 24 24\"\n",
              "       width=\"24px\">\n",
              "    <path d=\"M0 0h24v24H0V0z\" fill=\"none\"/>\n",
              "    <path d=\"M18.56 5.44l.94 2.06.94-2.06 2.06-.94-2.06-.94-.94-2.06-.94 2.06-2.06.94zm-11 1L8.5 8.5l.94-2.06 2.06-.94-2.06-.94L8.5 2.5l-.94 2.06-2.06.94zm10 10l.94 2.06.94-2.06 2.06-.94-2.06-.94-.94-2.06-.94 2.06-2.06.94z\"/><path d=\"M17.41 7.96l-1.37-1.37c-.4-.4-.92-.59-1.43-.59-.52 0-1.04.2-1.43.59L10.3 9.45l-7.72 7.72c-.78.78-.78 2.05 0 2.83L4 21.41c.39.39.9.59 1.41.59.51 0 1.02-.2 1.41-.59l7.78-7.78 2.81-2.81c.8-.78.8-2.07 0-2.86zM5.41 20L4 18.59l7.72-7.72 1.47 1.35L5.41 20z\"/>\n",
              "  </svg>\n",
              "      </button>\n",
              "      \n",
              "  <style>\n",
              "    .colab-df-container {\n",
              "      display:flex;\n",
              "      flex-wrap:wrap;\n",
              "      gap: 12px;\n",
              "    }\n",
              "\n",
              "    .colab-df-convert {\n",
              "      background-color: #E8F0FE;\n",
              "      border: none;\n",
              "      border-radius: 50%;\n",
              "      cursor: pointer;\n",
              "      display: none;\n",
              "      fill: #1967D2;\n",
              "      height: 32px;\n",
              "      padding: 0 0 0 0;\n",
              "      width: 32px;\n",
              "    }\n",
              "\n",
              "    .colab-df-convert:hover {\n",
              "      background-color: #E2EBFA;\n",
              "      box-shadow: 0px 1px 2px rgba(60, 64, 67, 0.3), 0px 1px 3px 1px rgba(60, 64, 67, 0.15);\n",
              "      fill: #174EA6;\n",
              "    }\n",
              "\n",
              "    [theme=dark] .colab-df-convert {\n",
              "      background-color: #3B4455;\n",
              "      fill: #D2E3FC;\n",
              "    }\n",
              "\n",
              "    [theme=dark] .colab-df-convert:hover {\n",
              "      background-color: #434B5C;\n",
              "      box-shadow: 0px 1px 3px 1px rgba(0, 0, 0, 0.15);\n",
              "      filter: drop-shadow(0px 1px 2px rgba(0, 0, 0, 0.3));\n",
              "      fill: #FFFFFF;\n",
              "    }\n",
              "  </style>\n",
              "\n",
              "      <script>\n",
              "        const buttonEl =\n",
              "          document.querySelector('#df-a9cede64-3881-4bd8-ade7-33ef0760a5ae button.colab-df-convert');\n",
              "        buttonEl.style.display =\n",
              "          google.colab.kernel.accessAllowed ? 'block' : 'none';\n",
              "\n",
              "        async function convertToInteractive(key) {\n",
              "          const element = document.querySelector('#df-a9cede64-3881-4bd8-ade7-33ef0760a5ae');\n",
              "          const dataTable =\n",
              "            await google.colab.kernel.invokeFunction('convertToInteractive',\n",
              "                                                     [key], {});\n",
              "          if (!dataTable) return;\n",
              "\n",
              "          const docLinkHtml = 'Like what you see? Visit the ' +\n",
              "            '<a target=\"_blank\" href=https://colab.research.google.com/notebooks/data_table.ipynb>data table notebook</a>'\n",
              "            + ' to learn more about interactive tables.';\n",
              "          element.innerHTML = '';\n",
              "          dataTable['output_type'] = 'display_data';\n",
              "          await google.colab.output.renderOutput(dataTable, element);\n",
              "          const docLink = document.createElement('div');\n",
              "          docLink.innerHTML = docLinkHtml;\n",
              "          element.appendChild(docLink);\n",
              "        }\n",
              "      </script>\n",
              "    </div>\n",
              "  </div>\n",
              "  "
            ]
          },
          "metadata": {},
          "execution_count": 104
        }
      ],
      "source": [
        "df_soh_ingre = df_soh[\"Nhà máy\"][df_soh[\"Nhà máy\"][\"ITEM\"].isin(ingre)]\n",
        "#fill NaT = 100000\n",
        "df_soh_ingre"
      ],
      "metadata": {
        "pycharm": {
          "name": "#%%\n"
        },
        "colab": {
          "base_uri": "https://localhost:8080/",
          "height": 438
        },
        "id": "6DgA0--vGZKi",
        "outputId": "783b485a-0940-4e3b-cc4a-056970e1c8ef"
      }
    },
    {
      "cell_type": "code",
      "execution_count": 105,
      "outputs": [
        {
          "output_type": "execute_result",
          "data": {
            "text/plain": [
              "{'NGÔ': 52.0,\n",
              " 'KHOAI': 52.0,\n",
              " 'SẮN': 52.0,\n",
              " 'XƯƠNG_ĐỘNG_VẬT': 17.0,\n",
              " 'MEN_VI_SINH': 17.0,\n",
              " 'BAO_BÌ_25KG': 500000000.0,\n",
              " 'BAO_BÌ_40KG': 500000000.0,\n",
              " 'BỘT_ĐỖ_TƯƠNG': 52.0,\n",
              " 'THÓC': 52.0}"
            ]
          },
          "metadata": {},
          "execution_count": 105
        }
      ],
      "source": [
        "hsd_dict = {}\n",
        "for i in ingre:\n",
        "    nsx = df_soh_ingre[df_soh_ingre[\"ITEM\"] == i][\"NGÀY SẢN XUẤT\"].values[0]\n",
        "    hsd = df_soh_ingre[df_soh_ingre[\"ITEM\"] == i][\"HẠN SỬ DỤNG TRÊN BAO BÌ\"].values[0]\n",
        "    d = (hsd - nsx).astype('timedelta64[D]').astype(int)\n",
        "    if d < 0:\n",
        "        d = 1000000000\n",
        "    hsd_dict[i] = d * 0.5\n",
        "\n",
        "hsd_dict"
      ],
      "metadata": {
        "pycharm": {
          "name": "#%%\n"
        },
        "colab": {
          "base_uri": "https://localhost:8080/"
        },
        "id": "NCmRVe_jGZKi",
        "outputId": "1601f164-03f6-4ffb-817a-98d14315ebab"
      }
    },
    {
      "cell_type": "markdown",
      "source": [
        "### 2.2. Define Useful Functions"
      ],
      "metadata": {
        "id": "7dKPdAwZOkm4"
      }
    },
    {
      "cell_type": "code",
      "execution_count": 106,
      "outputs": [],
      "source": [
        "# Tìm ra ngày thiếu đầu tiên của nguyên vật liệu đó. Loop danh sách, ngày có số lượng nguyên vật liệu cần nhập vào lớn hơn 0 thì đó ngày thiếu sản phẩm\n",
        "def start_insufficient(lis):\n",
        "    for i in range(len(lis)):\n",
        "        if lis[i] > 0:\n",
        "            return i\n",
        "    return len(lis)\n",
        "\n",
        "# Tính tổng số lượng cần import\n",
        "def get_amount_import(lis, start, end):\n",
        "    # return lis[end] if end < len(lis) else lis[-1]\n",
        "    return sum(lis[start:end]) if lis[start:end] else 0\n",
        "\n",
        "# Check số lượng raw material có thỏa mãn điều kiện MOQ hay không\n",
        "def check_moq(amout, moq):\n",
        "    return amout > moq\n",
        "\n",
        "# Kiểm tra xem còn hàng trong kho không? Nếu còn thì không cần nhập nữa\n",
        "def check_finish(t_y_dict):\n",
        "    for value in t_y_dict.values():\n",
        "        if sum(value) > 0:\n",
        "            return False\n",
        "    return True"
      ],
      "metadata": {
        "pycharm": {
          "name": "#%%\n"
        },
        "id": "pjA-phk5GZKj"
      }
    },
    {
      "cell_type": "code",
      "execution_count": 107,
      "outputs": [
        {
          "output_type": "display_data",
          "data": {
            "text/plain": [
              "<Figure size 1080x576 with 1 Axes>"
            ],
            "image/png": "[encoded data removed]"
          },
          "metadata": {
            "needs_background": "light"
          }
        }
      ],
      "source": [
        "x = [i for i in history_missing_ingredient.keys()]\n",
        "y_dict = {}\n",
        "for item in ingre:\n",
        "    y_dict[item] = [j[item] if i > (action_date - start_date).days else 0 for i, j in enumerate(history_missing_ingredient.values())]\n",
        "\n",
        "for key in y_dict.keys():\n",
        "    plt.plot(x, y_dict[key], label=key)\n",
        "    plt.title(\"Biểu Đồ Số Lượng Nguyên Liệu Còn Thiếu Theo Từng Ngày\", fontsize=17)\n",
        "    plt.gcf().set_size_inches(15, 8)\n",
        "    plt.gcf().autofmt_xdate()\n",
        "    plt.legend()"
      ],
      "metadata": {
        "pycharm": {
          "name": "#%%\n"
        },
        "colab": {
          "base_uri": "https://localhost:8080/",
          "height": 431
        },
        "id": "-DfkELXZGZKj",
        "outputId": "0b8d7911-14d9-44ce-cfb3-da6dc1053f24"
      }
    },
    {
      "cell_type": "code",
      "execution_count": 108,
      "outputs": [],
      "source": [
        "dic_soh_ingre = {}\n",
        "# loop through all df_soh_ingre\n",
        "for index, row in df_soh_ingre.iterrows():\n",
        "    hsd = row[\"HẠN SỬ DỤNG TRÊN BAO BÌ\"]\n",
        "    hsd = pd.to_datetime(pd.Timestamp(hsd))\n",
        "    if hsd != hsd:\n",
        "        hsd = pd.to_datetime('31-Dec-2100', format='%d-%b-%Y')\n",
        "    offset = hsd_dict[row[\"ITEM\"]]\n",
        "    if offset < 10000:\n",
        "        hsd = hsd - pd.DateOffset(days=offset)\n",
        "    valid = datetime(2000, 3, 31)\n",
        "    key = \"*\".join([row[\"ITEM\"], str(hsd), str(valid)])\n",
        "    qty = row[\"TỒN KHO CUỐI NGÀY 31/3/2023\"]\n",
        "    dic_soh_ingre[key] = {\"qty\": qty, \"hsd\": hsd, \"valid\": valid}\n",
        "    \n",
        "# merge po_list\n",
        "for item in po_list:\n",
        "    hsd = item[\"expiry_date\"]\n",
        "    valid = item[\"arrival_date\"]\n",
        "    key = \"*\".join([item[\"item\"], str(hsd), str(valid)])\n",
        "    if key in dic_soh_ingre.keys():\n",
        "        dic_soh_ingre[key][\"qty\"] += item[\"quantity\"]\n",
        "    else:\n",
        "        dic_soh_ingre[key] = {\"qty\": item[\"quantity\"], \"hsd\": hsd, \"valid\": valid}"
      ],
      "metadata": {
        "pycharm": {
          "name": "#%%\n"
        },
        "id": "FwEywrDaGZKk"
      }
    },
    {
      "cell_type": "code",
      "execution_count": 109,
      "outputs": [
        {
          "output_type": "display_data",
          "data": {
            "text/plain": [
              "<Figure size 1080x576 with 1 Axes>"
            ],
            "image/png": "[encoded data removed]"
          },
          "metadata": {
            "needs_background": "light"
          }
        }
      ],
      "source": [
        "for d in range(len(history_missing_ingredient)):\n",
        "    if d > (action_date - start_date).days:\n",
        "        for k, v in dic_soh_ingre.items():\n",
        "            k = k.split(\"*\")[0]\n",
        "            if y_dict[k][d] > 0:\n",
        "                if v[\"qty\"] > 0 and v[\"hsd\"] > (start_date + timedelta(days=d)) > v[\"valid\"]:\n",
        "                    if v[\"qty\"] >= y_dict[k][d]:\n",
        "                        v[\"qty\"] -= y_dict[k][d]\n",
        "                        y_dict[k][d] = 0\n",
        "                    else:\n",
        "                        y_dict[k][d] -= v[\"qty\"]\n",
        "                        v[\"qty\"] = 0\n",
        "\n",
        "for key in y_dict.keys():\n",
        "    plt.plot(x, y_dict[key], label=key)\n",
        "    plt.title(\"Biểu Đồ Số Lượng Nguyên Liệu Còn Thiếu Theo Từng Ngày\", fontsize=17)\n",
        "    plt.gcf().set_size_inches(15, 8)\n",
        "    plt.gcf().autofmt_xdate()\n",
        "    plt.legend()"
      ],
      "metadata": {
        "pycharm": {
          "name": "#%%\n"
        },
        "colab": {
          "base_uri": "https://localhost:8080/",
          "height": 431
        },
        "id": "eh_CtygEGZKl",
        "outputId": "046aa76e-2598-404d-80b9-882f672d6ef6"
      }
    },
    {
      "cell_type": "markdown",
      "source": [
        "### 2.3. Search for planned order release schedule"
      ],
      "metadata": {
        "id": "2uzdu_GshojA"
      }
    },
    {
      "cell_type": "markdown",
      "source": [
        "Tìm kiếm ngày cần nhập nguyên vật liệu để phục vụ cho sản xuất.\n",
        "Kiểm tra từng ngày:\n",
        "  + Nếu số lượng nguyên vật liệu thiếu = 0 => không cần nhập hàng\n",
        "  + Nếu số lượng nguyên vật liệu thiếu > 0 và chúng ta có thể tính toán ngày nhập hàng sao cho thỏa mãn:\n",
        "\n",
        "      a) Inventory day < shelf life 50% của nguyên vật liệu đó (tránh mua về không dùng hết phải bỏ đi)\n",
        "\n",
        "      b) Điều kiện MOQ"
      ],
      "metadata": {
        "id": "guyks1Vchmef"
      }
    },
    {
      "cell_type": "code",
      "execution_count": 110,
      "outputs": [],
      "source": [
        "import_info = []\n",
        "temporal_y_dict = copy.deepcopy(y_dict)\n",
        "cout = 0\n",
        "active_index = (action_date - start_date).days\n",
        "\n",
        "\n",
        "while not check_finish(temporal_y_dict):\n",
        "    cout += 1\n",
        "    for k, v in temporal_y_dict.items():\n",
        "        start = start_insufficient(v[active_index:]) + active_index\n",
        "        hsd = hsd_dict[k]\n",
        "        end = int(start + hsd)\n",
        "        end = min(end, len(v))\n",
        "        amount_import = get_amount_import(v, start, end)\n",
        "        if amount_import == 0:       # Ko thiếu thì ko cần check...\n",
        "            continue\n",
        "        if not check_moq(amount_import, df_items_fg.loc[df_items_fg['ITEM'] == k]['MOQ'].values[0]):\n",
        "            raise Exception(\"Need to decrease tolerance, current use: {}\".format(1))\n",
        "        import_info.append({\"item\": k, \"day\": start_date + relativedelta(days=start), \"amount\": amount_import})\n",
        "        for i in range(start, end):\n",
        "            v[i] = 0\n",
        "    if cout > 100:\n",
        "        break"
      ],
      "metadata": {
        "pycharm": {
          "name": "#%%\n"
        },
        "id": "X_hpyaRxGZKm"
      }
    },
    {
      "cell_type": "code",
      "execution_count": 111,
      "outputs": [
        {
          "output_type": "execute_result",
          "data": {
            "text/plain": [
              "[{'item': 'NGÔ',\n",
              "  'day': datetime.datetime(2023, 4, 10, 0, 0),\n",
              "  'amount': 56008.66986794719},\n",
              " {'item': 'KHOAI',\n",
              "  'day': datetime.datetime(2023, 4, 11, 0, 0),\n",
              "  'amount': 44863.52340936373},\n",
              " {'item': 'SẮN',\n",
              "  'day': datetime.datetime(2023, 4, 11, 0, 0),\n",
              "  'amount': 11015.630852340932},\n",
              " {'item': 'XƯƠNG_ĐỘNG_VẬT',\n",
              "  'day': datetime.datetime(2023, 4, 8, 0, 0),\n",
              "  'amount': 8928.571428571428},\n",
              " {'item': 'MEN_VI_SINH',\n",
              "  'day': datetime.datetime(2023, 4, 10, 0, 0),\n",
              "  'amount': 1851.5714285714273},\n",
              " {'item': 'BAO_BÌ_25KG',\n",
              "  'day': datetime.datetime(2023, 4, 19, 0, 0),\n",
              "  'amount': 7331.386554621847},\n",
              " {'item': 'BAO_BÌ_40KG',\n",
              "  'day': datetime.datetime(2023, 4, 20, 0, 0),\n",
              "  'amount': 3003.3988595438195},\n",
              " {'item': 'BỘT_ĐỖ_TƯƠNG',\n",
              "  'day': datetime.datetime(2023, 4, 13, 0, 0),\n",
              "  'amount': 16846.26530612244},\n",
              " {'item': 'THÓC',\n",
              "  'day': datetime.datetime(2023, 4, 11, 0, 0),\n",
              "  'amount': 68468.83673469385},\n",
              " {'item': 'NGÔ',\n",
              "  'day': datetime.datetime(2023, 6, 1, 0, 0),\n",
              "  'amount': 29336.734693877534},\n",
              " {'item': 'KHOAI',\n",
              "  'day': datetime.datetime(2023, 6, 2, 0, 0),\n",
              "  'amount': 22448.97959183673},\n",
              " {'item': 'SẮN',\n",
              "  'day': datetime.datetime(2023, 6, 2, 0, 0),\n",
              "  'amount': 5612.244897959183},\n",
              " {'item': 'XƯƠNG_ĐỘNG_VẬT',\n",
              "  'day': datetime.datetime(2023, 4, 25, 0, 0),\n",
              "  'amount': 9566.326530612241},\n",
              " {'item': 'MEN_VI_SINH',\n",
              "  'day': datetime.datetime(2023, 4, 27, 0, 0),\n",
              "  'amount': 1913.265306122448},\n",
              " {'item': 'BỘT_ĐỖ_TƯƠNG',\n",
              "  'day': datetime.datetime(2023, 6, 5, 0, 0),\n",
              "  'amount': 7653.061224489793},\n",
              " {'item': 'THÓC',\n",
              "  'day': datetime.datetime(2023, 6, 2, 0, 0),\n",
              "  'amount': 33673.469387755096},\n",
              " {'item': 'XƯƠNG_ĐỘNG_VẬT',\n",
              "  'day': datetime.datetime(2023, 5, 12, 0, 0),\n",
              "  'amount': 8928.571428571426},\n",
              " {'item': 'MEN_VI_SINH',\n",
              "  'day': datetime.datetime(2023, 5, 15, 0, 0),\n",
              "  'amount': 1863.1302521008397},\n",
              " {'item': 'XƯƠNG_ĐỘNG_VẬT',\n",
              "  'day': datetime.datetime(2023, 5, 29, 0, 0),\n",
              "  'amount': 9315.651260504203},\n",
              " {'item': 'MEN_VI_SINH',\n",
              "  'day': datetime.datetime(2023, 6, 1, 0, 0),\n",
              "  'amount': 1913.265306122448},\n",
              " {'item': 'XƯƠNG_ĐỘNG_VẬT',\n",
              "  'day': datetime.datetime(2023, 6, 15, 0, 0),\n",
              "  'amount': 7015.306122448978},\n",
              " {'item': 'MEN_VI_SINH',\n",
              "  'day': datetime.datetime(2023, 6, 19, 0, 0),\n",
              "  'amount': 1020.4081632653059}]"
            ]
          },
          "metadata": {},
          "execution_count": 111
        }
      ],
      "source": [
        "import_info"
      ],
      "metadata": {
        "pycharm": {
          "name": "#%%\n"
        },
        "colab": {
          "base_uri": "https://localhost:8080/"
        },
        "id": "OFL3sGZ3GZKm",
        "outputId": "d803294b-c94d-479b-d299-3544a26a5c2f"
      }
    },
    {
      "cell_type": "markdown",
      "source": [
        "# **C. Write Output**\n",
        "\n",
        "This section is used to reformat output and write it to Excel"
      ],
      "metadata": {
        "id": "km4rQSFxO1lu"
      }
    },
    {
      "cell_type": "markdown",
      "source": [
        "## **1. MRP**"
      ],
      "metadata": {
        "id": "uoRX-t68O4H2"
      }
    },
    {
      "cell_type": "code",
      "source": [
        "import_info_tmt = copy.deepcopy (import_info)\n",
        "df_import = pd.DataFrame(import_info_tmt)\n",
        "df_import.to_csv ('mrp.csv',index=False)"
      ],
      "metadata": {
        "id": "NGtWKdilO3qM"
      },
      "execution_count": 112,
      "outputs": []
    },
    {
      "cell_type": "markdown",
      "source": [
        "## **2. Kế hoạch sản xuất, chuyển hàng từ nhà máy đến các kho**"
      ],
      "metadata": {
        "id": "s5NoG2xhPDCS"
      }
    },
    {
      "cell_type": "markdown",
      "source": [
        "### 2.1. MPS"
      ],
      "metadata": {
        "id": "dHnT8YT7wYjv"
      }
    },
    {
      "cell_type": "code",
      "source": [
        "#Chicken\n",
        "X_Chicken_csv = X_Results_Chicken[(action_date-start_date).days:]\n",
        "X_Chicken_csv = np.round(X_Chicken_csv)\n",
        "df_X_Chicken_csv = pd.DataFrame(X_Chicken_csv)\n",
        "df_X_Chicken_csv.to_csv('chicken_plan.csv',index=False)\n",
        "\n",
        "#Sheep\n",
        "X_SHEEP_csv = X_Results_SHEEP[(action_date-start_date).days:]\n",
        "X_SHEEP_csv = np.round(X_SHEEP_csv)\n",
        "df_X_SHEEP_csv = pd.DataFrame(X_SHEEP_csv)\n",
        "df_X_SHEEP_csv.to_csv('sheep_plan.csv',index=False)"
      ],
      "metadata": {
        "id": "bYvQ-AhFPEVf"
      },
      "execution_count": 113,
      "outputs": []
    },
    {
      "cell_type": "markdown",
      "source": [
        "### 2.2. Kế hoạch chuyển hàng từ nhà máy đến các kho"
      ],
      "metadata": {
        "id": "TsQ_i61lwaOR"
      }
    },
    {
      "cell_type": "code",
      "source": [
        "Y_Results_Chicken = Y_Results_Chicken.reshape(-1,4)\n",
        "Y_Chicken_csv = Y_Results_Chicken[(action_date-start_date).days:]\n",
        "Y_Chicken_csv = np.round(Y_Chicken_csv)\n",
        "df_Y_Chicken_csv = pd.DataFrame(Y_Chicken_csv)\n",
        "df_Y_Chicken_csv.to_csv('chicken_plan_warehouse.csv',index=False)\n",
        "\n",
        "Y_Results_SHEEP = Y_Results_SHEEP.reshape(-1,4)\n",
        "Y_SHEEP_csv = Y_Results_SHEEP[(action_date-start_date).days:]\n",
        "Y_SHEEP_csv = np.round(Y_SHEEP_csv)\n",
        "df_Y_SHEEP_csv = pd.DataFrame(Y_SHEEP_csv)\n",
        "df_Y_SHEEP_csv.to_csv('SHEEP_plan_warehouse.csv',index=False)"
      ],
      "metadata": {
        "id": "zaImSR1gwhPI"
      },
      "execution_count": 114,
      "outputs": []
    },
    {
      "cell_type": "markdown",
      "source": [
        "## **3. Expired Items**"
      ],
      "metadata": {
        "id": "_-X--oFePEwb"
      }
    },
    {
      "cell_type": "code",
      "source": [
        "dic_soh_ingre_tmd = copy.deepcopy(dic_soh_ingre)\n",
        "out_of_date = dict()\n",
        "for k, v in dic_soh_ingre_tmd.items():\n",
        "  k = k.split('*')[0]\n",
        "  if k not in out_of_date.keys():\n",
        "    out_of_date[k] = v['qty']\n",
        "  else :\n",
        "    out_of_date[k] += v['qty']\n",
        "out_of_date\n",
        "\n",
        "\n",
        "out_of_date_=[[k,v] for k,v in out_of_date.items()]\n",
        "df_out_of_date = pd.DataFrame(out_of_date_)\n",
        "df_out_of_date.to_csv('RM_out_of_date.csv',index=False)"
      ],
      "metadata": {
        "id": "XXLBAdLCPLiI"
      },
      "execution_count": 115,
      "outputs": []
    }
  ],
  "metadata": {
    "kernelspec": {
      "display_name": "Python 3",
      "language": "python",
      "name": "python3"
    },
    "language_info": {
      "codemirror_mode": {
        "name": "ipython",
        "version": 2
      },
      "file_extension": ".py",
      "mimetype": "text/x-python",
      "name": "python",
      "nbconvert_exporter": "python",
      "pygments_lexer": "ipython2",
      "version": "2.7.6"
    },
    "colab": {
      "provenance": [],
      "toc_visible": true
    }
  },
  "nbformat": 4,
  "nbformat_minor": 0
}